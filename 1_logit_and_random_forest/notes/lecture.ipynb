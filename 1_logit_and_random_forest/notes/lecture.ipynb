{
 "cells": [
  {
   "cell_type": "markdown",
   "metadata": {},
   "source": [
    "# 参考リンク\n",
    "## ロジスティック回帰\n",
    "[ロジスティック回帰の考え方/使い方](http://www.slideshare.net/horihorio/tokyo-r33-logi)\n",
    "\n",
    "[RでL1/L2正則化を実践する](http://tjo.hatenablog.com/entry/2015/03/03/190000)\n",
    "\n",
    "## ランダムフォレスト"
   ]
  }
 ],
 "metadata": {
  "kernelspec": {
   "display_name": "Python 3",
   "language": "python",
   "name": "python3"
  },
  "language_info": {
   "codemirror_mode": {
    "name": "ipython",
    "version": 3
   },
   "file_extension": ".py",
   "mimetype": "text/x-python",
   "name": "python",
   "nbconvert_exporter": "python",
   "pygments_lexer": "ipython3",
   "version": "3.5.2"
  }
 },
 "nbformat": 4,
 "nbformat_minor": 0
}
