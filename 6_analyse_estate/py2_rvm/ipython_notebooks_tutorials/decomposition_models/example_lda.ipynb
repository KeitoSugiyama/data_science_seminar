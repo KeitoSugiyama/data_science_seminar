{
 "metadata": {
  "name": "",
  "signature": "sha256:0276c88268043a896cf2e2e7d8c36ba3f8a9183acef41a4a08d7f8be2157423b"
 },
 "nbformat": 3,
 "nbformat_minor": 0,
 "worksheets": [
  {
   "cells": [
    {
     "cell_type": "code",
     "collapsed": false,
     "input": [
      "# vim: set filetype=python:"
     ],
     "language": "python",
     "metadata": {},
     "outputs": [],
     "prompt_number": 1
    },
    {
     "cell_type": "heading",
     "level": 1,
     "metadata": {},
     "source": [
      "Latent Dirichlet Allocation"
     ]
    },
    {
     "cell_type": "markdown",
     "metadata": {},
     "source": [
      "Latent Disirchlet Allocation is probabilistic model widely used for topic modelling. \n",
      "Unfortuantely posterior distribution fot this model is not analytically tractable, so the only way is to use approximation techniques. Variational Inference and collapsed Gibbs Sampling are two main approaches used for LDA, while VI is extremely fast (especially stochastic VI) it makes simplifying assumptions about structure of posterior and achives worse results than collapsed Gibbs Sampler (see pereplexity comparison in Griffiths and Steyer (2004) for details).\n",
      "LDA implementation in scikit-learn uses VI, while our implementation in skbayes uses collapsed Gibbs Sampler.\n"
     ]
    },
    {
     "cell_type": "heading",
     "level": 2,
     "metadata": {},
     "source": [
      "Example: 20 newsgroups"
     ]
    },
    {
     "cell_type": "heading",
     "level": 5,
     "metadata": {},
     "source": [
      "1. Load and Preprocess data"
     ]
    },
    {
     "cell_type": "code",
     "collapsed": false,
     "input": [
      "from time import time\n",
      "from skbayes.decomposition_models import GibbsLDA\n",
      "from sklearn.feature_extraction.text import CountVectorizer\n",
      "from sklearn.datasets import fetch_20newsgroups\n",
      "import matplotlib.pyplot as plt\n",
      "\n",
      "# example taken from  scikit-learn website\n",
      "n_samples = 200\n",
      "n_features = 1000\n",
      "n_topics = 10\n",
      "n_top_words = 20\n",
      "\n",
      "# load dataset\n",
      "print(\"Loading dataset...\")\n",
      "t0 = time()\n",
      "dataset = fetch_20newsgroups(shuffle=True, random_state=1,\n",
      "                             remove=('headers', 'footers', 'quotes'))\n",
      "data_samples = dataset.data\n",
      "print(\"done in %0.3fs.\" % (time() - t0))\n",
      "\n",
      "\n",
      "# Use tf (raw term count) features for LDA.\n",
      "print(\"Extracting tf features for LDA...\")\n",
      "tf_vectorizer = CountVectorizer(max_df=0.95, min_df=2, max_features=n_features,\n",
      "                                stop_words='english')\n",
      "t0 = time()\n",
      "tf = tf_vectorizer.fit_transform(data_samples)\n",
      "print(\"done in %0.3fs.\" % (time() - t0))\n",
      "print((\"Number of documents is {0}, vocabulary size is {1}\").format(tf.shape[0],tf.shape[1]))"
     ],
     "language": "python",
     "metadata": {},
     "outputs": [
      {
       "output_type": "stream",
       "stream": "stdout",
       "text": [
        "Loading dataset...\n",
        "done in 1.914s."
       ]
      },
      {
       "output_type": "stream",
       "stream": "stdout",
       "text": [
        "\n",
        "Extracting tf features for LDA...\n",
        "done in 2.342s."
       ]
      },
      {
       "output_type": "stream",
       "stream": "stdout",
       "text": [
        "\n",
        "Number of documents is 11314, vocabulary size is 1000\n"
       ]
      }
     ],
     "prompt_number": 2
    },
    {
     "cell_type": "heading",
     "level": 5,
     "metadata": {},
     "source": [
      "2. Run Sampler"
     ]
    },
    {
     "cell_type": "markdown",
     "metadata": {},
     "source": [
      "Use fit_transform (transform method can be used after fit, but it is very inefficient). If you want monitor convergence and progress\n",
      "set verbose = True, compute_score = True."
     ]
    },
    {
     "cell_type": "code",
     "collapsed": false,
     "input": [
      "lda = GibbsLDA(n_topics = n_topics, n_burnin = 40, verbose = True,\n",
      "               compute_score = True)\n",
      "document_topic = lda.fit_transform(tf)"
     ],
     "language": "python",
     "metadata": {},
     "outputs": [
      {
       "output_type": "stream",
       "stream": "stdout",
       "text": [
        "collected 0 sample in burn-in stage, time spent on sample = 9.39612221718, log-like = -4686480.07041\n",
        "collected 1 sample in burn-in stage, time spent on sample = 10.6653549671, log-like = -4626756.03565"
       ]
      },
      {
       "output_type": "stream",
       "stream": "stdout",
       "text": [
        "\n",
        "collected 2 sample in burn-in stage, time spent on sample = 9.44429898262, log-like = -4399809.67065"
       ]
      },
      {
       "output_type": "stream",
       "stream": "stdout",
       "text": [
        "\n",
        "collected 3 sample in burn-in stage, time spent on sample = 9.58955287933, log-like = -4133697.45206"
       ]
      },
      {
       "output_type": "stream",
       "stream": "stdout",
       "text": [
        "\n",
        "collected 4 sample in burn-in stage, time spent on sample = 9.60349392891, log-like = -4010599.19835"
       ]
      },
      {
       "output_type": "stream",
       "stream": "stdout",
       "text": [
        "\n",
        "collected 5 sample in burn-in stage, time spent on sample = 9.35082387924, log-like = -3888440.03899"
       ]
      },
      {
       "output_type": "stream",
       "stream": "stdout",
       "text": [
        "\n",
        "collected 6 sample in burn-in stage, time spent on sample = 9.33255815506, log-like = -3774297.72283"
       ]
      },
      {
       "output_type": "stream",
       "stream": "stdout",
       "text": [
        "\n",
        "collected 7 sample in burn-in stage, time spent on sample = 9.28641104698, log-like = -3683975.56228"
       ]
      },
      {
       "output_type": "stream",
       "stream": "stdout",
       "text": [
        "\n",
        "collected 8 sample in burn-in stage, time spent on sample = 9.33774113655, log-like = -3618021.91302"
       ]
      },
      {
       "output_type": "stream",
       "stream": "stdout",
       "text": [
        "\n",
        "collected 9 sample in burn-in stage, time spent on sample = 9.3835310936, log-like = -3572051.59172"
       ]
      },
      {
       "output_type": "stream",
       "stream": "stdout",
       "text": [
        "\n",
        "collected 10 sample in burn-in stage, time spent on sample = 9.39315605164, log-like = -3541659.77676"
       ]
      },
      {
       "output_type": "stream",
       "stream": "stdout",
       "text": [
        "\n",
        "collected 11 sample in burn-in stage, time spent on sample = 9.33668088913, log-like = -3523120.89303"
       ]
      },
      {
       "output_type": "stream",
       "stream": "stdout",
       "text": [
        "\n",
        "collected 12 sample in burn-in stage, time spent on sample = 9.34140396118, log-like = -3509283.69204"
       ]
      },
      {
       "output_type": "stream",
       "stream": "stdout",
       "text": [
        "\n",
        "collected 13 sample in burn-in stage, time spent on sample = 9.35956788063, log-like = -3500037.17455"
       ]
      },
      {
       "output_type": "stream",
       "stream": "stdout",
       "text": [
        "\n",
        "collected 14 sample in burn-in stage, time spent on sample = 9.30683112144, log-like = -3492484.39673"
       ]
      },
      {
       "output_type": "stream",
       "stream": "stdout",
       "text": [
        "\n",
        "collected 15 sample in burn-in stage, time spent on sample = 9.33208012581, log-like = -3486627.71813"
       ]
      },
      {
       "output_type": "stream",
       "stream": "stdout",
       "text": [
        "\n",
        "collected 16 sample in burn-in stage, time spent on sample = 9.33627796173, log-like = -3481341.70947"
       ]
      },
      {
       "output_type": "stream",
       "stream": "stdout",
       "text": [
        "\n",
        "collected 17 sample in burn-in stage, time spent on sample = 9.32463216782, log-like = -3477913.79938"
       ]
      },
      {
       "output_type": "stream",
       "stream": "stdout",
       "text": [
        "\n",
        "collected 18 sample in burn-in stage, time spent on sample = 9.29853391647, log-like = -3475064.35241"
       ]
      },
      {
       "output_type": "stream",
       "stream": "stdout",
       "text": [
        "\n",
        "collected 19 sample in burn-in stage, time spent on sample = 9.34120583534, log-like = -3471963.82473"
       ]
      },
      {
       "output_type": "stream",
       "stream": "stdout",
       "text": [
        "\n",
        "collected 20 sample in burn-in stage, time spent on sample = 9.37461495399, log-like = -3469891.8491"
       ]
      },
      {
       "output_type": "stream",
       "stream": "stdout",
       "text": [
        "\n",
        "collected 21 sample in burn-in stage, time spent on sample = 9.313560009, log-like = -3468791.94708"
       ]
      },
      {
       "output_type": "stream",
       "stream": "stdout",
       "text": [
        "\n",
        "collected 22 sample in burn-in stage, time spent on sample = 9.37225008011, log-like = -3467237.92383"
       ]
      },
      {
       "output_type": "stream",
       "stream": "stdout",
       "text": [
        "\n",
        "collected 23 sample in burn-in stage, time spent on sample = 9.38611698151, log-like = -3465882.48168"
       ]
      },
      {
       "output_type": "stream",
       "stream": "stdout",
       "text": [
        "\n",
        "collected 24 sample in burn-in stage, time spent on sample = 9.31665420532, log-like = -3464289.09536"
       ]
      },
      {
       "output_type": "stream",
       "stream": "stdout",
       "text": [
        "\n",
        "collected 25 sample in burn-in stage, time spent on sample = 9.30313897133, log-like = -3463780.87901"
       ]
      },
      {
       "output_type": "stream",
       "stream": "stdout",
       "text": [
        "\n",
        "collected 26 sample in burn-in stage, time spent on sample = 9.34749102592, log-like = -3462523.30778"
       ]
      },
      {
       "output_type": "stream",
       "stream": "stdout",
       "text": [
        "\n",
        "collected 27 sample in burn-in stage, time spent on sample = 9.29784083366, log-like = -3462065.05235"
       ]
      },
      {
       "output_type": "stream",
       "stream": "stdout",
       "text": [
        "\n",
        "collected 28 sample in burn-in stage, time spent on sample = 9.29486393929, log-like = -3461549.6516"
       ]
      },
      {
       "output_type": "stream",
       "stream": "stdout",
       "text": [
        "\n",
        "collected 29 sample in burn-in stage, time spent on sample = 9.35886192322, log-like = -3460334.84298"
       ]
      },
      {
       "output_type": "stream",
       "stream": "stdout",
       "text": [
        "\n",
        "collected 30 sample in burn-in stage, time spent on sample = 9.34133195877, log-like = -3458826.95356"
       ]
      },
      {
       "output_type": "stream",
       "stream": "stdout",
       "text": [
        "\n",
        "collected 31 sample in burn-in stage, time spent on sample = 9.31589889526, log-like = -3457484.86497"
       ]
      },
      {
       "output_type": "stream",
       "stream": "stdout",
       "text": [
        "\n",
        "collected 32 sample in burn-in stage, time spent on sample = 9.34170079231, log-like = -3457458.69098"
       ]
      },
      {
       "output_type": "stream",
       "stream": "stdout",
       "text": [
        "\n",
        "collected 33 sample in burn-in stage, time spent on sample = 9.37119698524, log-like = -3456326.86821"
       ]
      },
      {
       "output_type": "stream",
       "stream": "stdout",
       "text": [
        "\n",
        "collected 34 sample in burn-in stage, time spent on sample = 9.31454586983, log-like = -3455161.02493"
       ]
      },
      {
       "output_type": "stream",
       "stream": "stdout",
       "text": [
        "\n",
        "collected 35 sample in burn-in stage, time spent on sample = 9.29820895195, log-like = -3454799.5186"
       ]
      },
      {
       "output_type": "stream",
       "stream": "stdout",
       "text": [
        "\n",
        "collected 36 sample in burn-in stage, time spent on sample = 9.32142305374, log-like = -3454805.34406"
       ]
      },
      {
       "output_type": "stream",
       "stream": "stdout",
       "text": [
        "\n",
        "collected 37 sample in burn-in stage, time spent on sample = 9.29771494865, log-like = -3453190.54013"
       ]
      },
      {
       "output_type": "stream",
       "stream": "stdout",
       "text": [
        "\n",
        "collected 38 sample in burn-in stage, time spent on sample = 9.30461096764, log-like = -3453620.00428"
       ]
      },
      {
       "output_type": "stream",
       "stream": "stdout",
       "text": [
        "\n",
        "collected 39 sample in burn-in stage, time spent on sample = 9.31666016579, log-like = -3451524.30536"
       ]
      },
      {
       "output_type": "stream",
       "stream": "stdout",
       "text": [
        "\n"
       ]
      }
     ],
     "prompt_number": 3
    },
    {
     "cell_type": "heading",
     "level": 5,
     "metadata": {},
     "source": [
      "3. Do some analysis on obtained results"
     ]
    },
    {
     "cell_type": "code",
     "collapsed": false,
     "input": [
      "# find top words for each topic\n",
      "def print_top_words(model, feature_names, n_top_words):\n",
      "       for topic_idx, topic in enumerate(model.word_topic_.T):\n",
      "           print(\"Topic #%d:\" % topic_idx)\n",
      "           print(\" \".join([feature_names[i]\n",
      "                       for i in topic.argsort()[:-n_top_words - 1:-1]]))\n",
      "tf_feature_names = tf_vectorizer.get_feature_names()            \n",
      "print_top_words(lda,tf_feature_names,20)"
     ],
     "language": "python",
     "metadata": {},
     "outputs": [
      {
       "output_type": "stream",
       "stream": "stdout",
       "text": [
        "Topic #0:\n",
        "god does jesus believe people say think true bible life christian just way know church question faith don point christians\n",
        "Topic #1:\n",
        "edu file com available program use information mail ftp files window image send data version code email server list pub\n",
        "Topic #2:\n",
        "ax max g9v b8f a86 pl 145 1d9 34u 0t 1t bhj 75u 3t giz 2di wm 2tm 7ey 0d\n",
        "Topic #3:\n",
        "people armenian new israel years armenians war said turkish world states jews university state children 000 research national israeli center\n",
        "Topic #4:\n",
        "drive windows thanks card dos use problem scsi disk does bit pc mac hard using memory like know software video\n",
        "Topic #5:\n",
        "key mr president chip government encryption use know public keys new clipper security think number law don used privacy stephanopoulos\n",
        "Topic #6:\n",
        "people don right like make think just gun want does case know state way sure question good doesn say really\n",
        "Topic #7:\n",
        "just don know like ve think got didn time said going did ll good really say people way right want\n",
        "Topic #8:\n",
        "space good car db use time used new like power high cost better low small work current probably ground launch\n",
        "Topic #9:\n",
        "10 00 25 15 20 12 team 11 14 16 game 17 30 13 50 games 24 18 new play\n"
       ]
      }
     ],
     "prompt_number": 4
    },
    {
     "cell_type": "code",
     "collapsed": false,
     "input": [
      "import matplotlib.pyplot as plt\n",
      "\n",
      "# find number of words assigned to each topic\n",
      "plt.plot(lda.topics_,'r-')\n",
      "plt.show()"
     ],
     "language": "python",
     "metadata": {},
     "outputs": [
      {
       "metadata": {},
       "output_type": "display_data",
       "png": "[encoded data removed]",
       "text": [
        "<matplotlib.figure.Figure at 0x1070ea790>"
       ]
      }
     ],
     "prompt_number": 5
    },
    {
     "cell_type": "code",
     "collapsed": false,
     "input": [
      "# plot joint log-likelihood, it seems that Gibbs Sampler converged after\n",
      "# 15-20 iterations (however it is advised to sample for longer time\n",
      "# since what seems like convergence can be just local optimum)\n",
      "plt.plot(lda.scores_)\n",
      "plt.show()"
     ],
     "language": "python",
     "metadata": {},
     "outputs": [
      {
       "metadata": {},
       "output_type": "display_data",
       "png": "[encoded data removed]",
       "text": [
        "<matplotlib.figure.Figure at 0x1090fbd90>"
       ]
      }
     ],
     "prompt_number": 6
    },
    {
     "cell_type": "code",
     "collapsed": false,
     "input": [
      "# topic distribution of each document can be used to measure\n",
      "# document similarity and cluster documents in groups\n",
      "import seaborn as sns\n",
      "sns.clustermap(document_topic[0:1000,:],row_cluster = True, col_cluster = False,\n",
      "               method = 'complete')\n",
      "plt.show()"
     ],
     "language": "python",
     "metadata": {},
     "outputs": [
      {
       "metadata": {},
       "output_type": "display_data",
       "png": "[encoded data removed]",
       "text": [
        "<matplotlib.figure.Figure at 0x10c2fb850>"
       ]
      }
     ],
     "prompt_number": 9
    }
   ],
   "metadata": {}
  }
 ]
}